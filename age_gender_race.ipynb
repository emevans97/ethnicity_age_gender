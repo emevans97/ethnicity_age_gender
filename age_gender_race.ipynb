{
  "nbformat": 4,
  "nbformat_minor": 0,
  "metadata": {
    "colab": {
      "name": "age_gender_race.ipynb",
      "provenance": []
    },
    "kernelspec": {
      "name": "python3",
      "display_name": "Python 3"
    },
    "language_info": {
      "name": "python"
    },
    "accelerator": "GPU",
    "gpuClass": "standard"
  },
  "cells": [
    {
      "cell_type": "code",
      "execution_count": 1,
      "metadata": {
        "colab": {
          "base_uri": "https://localhost:8080/"
        },
        "id": "E38t3Eu_xJ9_",
        "outputId": "2f13a3d2-2096-48e7-9817-eda27ad4e1c1"
      },
      "outputs": [
        {
          "output_type": "stream",
          "name": "stdout",
          "text": [
            "Drive already mounted at /content/drive; to attempt to forcibly remount, call drive.mount(\"/content/drive\", force_remount=True).\n"
          ]
        }
      ],
      "source": [
        "from google.colab import drive\n",
        "drive.mount('/content/drive')"
      ]
    },
    {
      "cell_type": "code",
      "source": [
        "!ls"
      ],
      "metadata": {
        "colab": {
          "base_uri": "https://localhost:8080/"
        },
        "id": "e4XZEIx00TuE",
        "outputId": "b7f7d743-6efb-47e9-8172-cde7f8878cd4"
      },
      "execution_count": 2,
      "outputs": [
        {
          "output_type": "stream",
          "name": "stdout",
          "text": [
            "drive  sample_data\n"
          ]
        }
      ]
    },
    {
      "cell_type": "code",
      "source": [
        "import pandas as pd\n",
        "import numpy as np\n",
        "import seaborn as sns\n",
        "import matplotlib.pyplot as plt\n",
        "from sklearn.model_selection import train_test_split\n",
        "from tensorflow.keras.models import Sequential\n",
        "from tensorflow.keras import layers, callbacks, models\n",
        "from sklearn import model_selection\n",
        "from sklearn.metrics import r2_score"
      ],
      "metadata": {
        "id": "tdnhNel6134a"
      },
      "execution_count": 3,
      "outputs": []
    },
    {
      "cell_type": "code",
      "source": [
        "data = pd.read_csv('/content/drive/MyDrive/age_gender_race/age_gender.csv')"
      ],
      "metadata": {
        "id": "pY9vK5C-1tj0"
      },
      "execution_count": 4,
      "outputs": []
    },
    {
      "cell_type": "code",
      "source": [
        "data.head()"
      ],
      "metadata": {
        "colab": {
          "base_uri": "https://localhost:8080/",
          "height": 206
        },
        "id": "pHZP_std1-Hr",
        "outputId": "428e4fac-a814-4021-e814-2fea325f6a41"
      },
      "execution_count": 5,
      "outputs": [
        {
          "output_type": "execute_result",
          "data": {
            "text/plain": [
              "   age  ethnicity  gender                        img_name  \\\n",
              "0    1          2       0  20161219203650636.jpg.chip.jpg   \n",
              "1    1          2       0  20161219222752047.jpg.chip.jpg   \n",
              "2    1          2       0  20161219222832191.jpg.chip.jpg   \n",
              "3    1          2       0  20161220144911423.jpg.chip.jpg   \n",
              "4    1          2       0  20161220144914327.jpg.chip.jpg   \n",
              "\n",
              "                                              pixels  \n",
              "0  129 128 128 126 127 130 133 135 139 142 145 14...  \n",
              "1  164 74 111 168 169 171 175 182 184 188 193 199...  \n",
              "2  67 70 71 70 69 67 70 79 90 103 116 132 145 155...  \n",
              "3  193 197 198 200 199 200 202 203 204 205 208 21...  \n",
              "4  202 205 209 210 209 209 210 211 212 214 218 21...  "
            ],
            "text/html": [
              "\n",
              "  <div id=\"df-4f2a1396-2a5c-43b1-a86f-c2a841ba5aae\">\n",
              "    <div class=\"colab-df-container\">\n",
              "      <div>\n",
              "<style scoped>\n",
              "    .dataframe tbody tr th:only-of-type {\n",
              "        vertical-align: middle;\n",
              "    }\n",
              "\n",
              "    .dataframe tbody tr th {\n",
              "        vertical-align: top;\n",
              "    }\n",
              "\n",
              "    .dataframe thead th {\n",
              "        text-align: right;\n",
              "    }\n",
              "</style>\n",
              "<table border=\"1\" class=\"dataframe\">\n",
              "  <thead>\n",
              "    <tr style=\"text-align: right;\">\n",
              "      <th></th>\n",
              "      <th>age</th>\n",
              "      <th>ethnicity</th>\n",
              "      <th>gender</th>\n",
              "      <th>img_name</th>\n",
              "      <th>pixels</th>\n",
              "    </tr>\n",
              "  </thead>\n",
              "  <tbody>\n",
              "    <tr>\n",
              "      <th>0</th>\n",
              "      <td>1</td>\n",
              "      <td>2</td>\n",
              "      <td>0</td>\n",
              "      <td>20161219203650636.jpg.chip.jpg</td>\n",
              "      <td>129 128 128 126 127 130 133 135 139 142 145 14...</td>\n",
              "    </tr>\n",
              "    <tr>\n",
              "      <th>1</th>\n",
              "      <td>1</td>\n",
              "      <td>2</td>\n",
              "      <td>0</td>\n",
              "      <td>20161219222752047.jpg.chip.jpg</td>\n",
              "      <td>164 74 111 168 169 171 175 182 184 188 193 199...</td>\n",
              "    </tr>\n",
              "    <tr>\n",
              "      <th>2</th>\n",
              "      <td>1</td>\n",
              "      <td>2</td>\n",
              "      <td>0</td>\n",
              "      <td>20161219222832191.jpg.chip.jpg</td>\n",
              "      <td>67 70 71 70 69 67 70 79 90 103 116 132 145 155...</td>\n",
              "    </tr>\n",
              "    <tr>\n",
              "      <th>3</th>\n",
              "      <td>1</td>\n",
              "      <td>2</td>\n",
              "      <td>0</td>\n",
              "      <td>20161220144911423.jpg.chip.jpg</td>\n",
              "      <td>193 197 198 200 199 200 202 203 204 205 208 21...</td>\n",
              "    </tr>\n",
              "    <tr>\n",
              "      <th>4</th>\n",
              "      <td>1</td>\n",
              "      <td>2</td>\n",
              "      <td>0</td>\n",
              "      <td>20161220144914327.jpg.chip.jpg</td>\n",
              "      <td>202 205 209 210 209 209 210 211 212 214 218 21...</td>\n",
              "    </tr>\n",
              "  </tbody>\n",
              "</table>\n",
              "</div>\n",
              "      <button class=\"colab-df-convert\" onclick=\"convertToInteractive('df-4f2a1396-2a5c-43b1-a86f-c2a841ba5aae')\"\n",
              "              title=\"Convert this dataframe to an interactive table.\"\n",
              "              style=\"display:none;\">\n",
              "        \n",
              "  <svg xmlns=\"http://www.w3.org/2000/svg\" height=\"24px\"viewBox=\"0 0 24 24\"\n",
              "       width=\"24px\">\n",
              "    <path d=\"M0 0h24v24H0V0z\" fill=\"none\"/>\n",
              "    <path d=\"M18.56 5.44l.94 2.06.94-2.06 2.06-.94-2.06-.94-.94-2.06-.94 2.06-2.06.94zm-11 1L8.5 8.5l.94-2.06 2.06-.94-2.06-.94L8.5 2.5l-.94 2.06-2.06.94zm10 10l.94 2.06.94-2.06 2.06-.94-2.06-.94-.94-2.06-.94 2.06-2.06.94z\"/><path d=\"M17.41 7.96l-1.37-1.37c-.4-.4-.92-.59-1.43-.59-.52 0-1.04.2-1.43.59L10.3 9.45l-7.72 7.72c-.78.78-.78 2.05 0 2.83L4 21.41c.39.39.9.59 1.41.59.51 0 1.02-.2 1.41-.59l7.78-7.78 2.81-2.81c.8-.78.8-2.07 0-2.86zM5.41 20L4 18.59l7.72-7.72 1.47 1.35L5.41 20z\"/>\n",
              "  </svg>\n",
              "      </button>\n",
              "      \n",
              "  <style>\n",
              "    .colab-df-container {\n",
              "      display:flex;\n",
              "      flex-wrap:wrap;\n",
              "      gap: 12px;\n",
              "    }\n",
              "\n",
              "    .colab-df-convert {\n",
              "      background-color: #E8F0FE;\n",
              "      border: none;\n",
              "      border-radius: 50%;\n",
              "      cursor: pointer;\n",
              "      display: none;\n",
              "      fill: #1967D2;\n",
              "      height: 32px;\n",
              "      padding: 0 0 0 0;\n",
              "      width: 32px;\n",
              "    }\n",
              "\n",
              "    .colab-df-convert:hover {\n",
              "      background-color: #E2EBFA;\n",
              "      box-shadow: 0px 1px 2px rgba(60, 64, 67, 0.3), 0px 1px 3px 1px rgba(60, 64, 67, 0.15);\n",
              "      fill: #174EA6;\n",
              "    }\n",
              "\n",
              "    [theme=dark] .colab-df-convert {\n",
              "      background-color: #3B4455;\n",
              "      fill: #D2E3FC;\n",
              "    }\n",
              "\n",
              "    [theme=dark] .colab-df-convert:hover {\n",
              "      background-color: #434B5C;\n",
              "      box-shadow: 0px 1px 3px 1px rgba(0, 0, 0, 0.15);\n",
              "      filter: drop-shadow(0px 1px 2px rgba(0, 0, 0, 0.3));\n",
              "      fill: #FFFFFF;\n",
              "    }\n",
              "  </style>\n",
              "\n",
              "      <script>\n",
              "        const buttonEl =\n",
              "          document.querySelector('#df-4f2a1396-2a5c-43b1-a86f-c2a841ba5aae button.colab-df-convert');\n",
              "        buttonEl.style.display =\n",
              "          google.colab.kernel.accessAllowed ? 'block' : 'none';\n",
              "\n",
              "        async function convertToInteractive(key) {\n",
              "          const element = document.querySelector('#df-4f2a1396-2a5c-43b1-a86f-c2a841ba5aae');\n",
              "          const dataTable =\n",
              "            await google.colab.kernel.invokeFunction('convertToInteractive',\n",
              "                                                     [key], {});\n",
              "          if (!dataTable) return;\n",
              "\n",
              "          const docLinkHtml = 'Like what you see? Visit the ' +\n",
              "            '<a target=\"_blank\" href=https://colab.research.google.com/notebooks/data_table.ipynb>data table notebook</a>'\n",
              "            + ' to learn more about interactive tables.';\n",
              "          element.innerHTML = '';\n",
              "          dataTable['output_type'] = 'display_data';\n",
              "          await google.colab.output.renderOutput(dataTable, element);\n",
              "          const docLink = document.createElement('div');\n",
              "          docLink.innerHTML = docLinkHtml;\n",
              "          element.appendChild(docLink);\n",
              "        }\n",
              "      </script>\n",
              "    </div>\n",
              "  </div>\n",
              "  "
            ]
          },
          "metadata": {},
          "execution_count": 5
        }
      ]
    },
    {
      "cell_type": "code",
      "source": [
        "data_df = data.copy()"
      ],
      "metadata": {
        "id": "t0w5IoEn2Azp"
      },
      "execution_count": 6,
      "outputs": []
    },
    {
      "cell_type": "markdown",
      "source": [
        "**Convert pixels column into numpy array**"
      ],
      "metadata": {
        "id": "26q3Wjp1-QZC"
      }
    },
    {
      "cell_type": "code",
      "source": [
        "data_df['pixels'] = data_df['pixels'].apply(lambda x: np.array(x.split(\" \"), dtype=\"float32\"))\n",
        "data_df.head()"
      ],
      "metadata": {
        "colab": {
          "base_uri": "https://localhost:8080/",
          "height": 206
        },
        "id": "7KDnVMjn6WWJ",
        "outputId": "c01c2a0e-e340-4645-eb2e-c5989cd5a837"
      },
      "execution_count": 7,
      "outputs": [
        {
          "output_type": "execute_result",
          "data": {
            "text/plain": [
              "   age  ethnicity  gender                        img_name  \\\n",
              "0    1          2       0  20161219203650636.jpg.chip.jpg   \n",
              "1    1          2       0  20161219222752047.jpg.chip.jpg   \n",
              "2    1          2       0  20161219222832191.jpg.chip.jpg   \n",
              "3    1          2       0  20161220144911423.jpg.chip.jpg   \n",
              "4    1          2       0  20161220144914327.jpg.chip.jpg   \n",
              "\n",
              "                                              pixels  \n",
              "0  [129.0, 128.0, 128.0, 126.0, 127.0, 130.0, 133...  \n",
              "1  [164.0, 74.0, 111.0, 168.0, 169.0, 171.0, 175....  \n",
              "2  [67.0, 70.0, 71.0, 70.0, 69.0, 67.0, 70.0, 79....  \n",
              "3  [193.0, 197.0, 198.0, 200.0, 199.0, 200.0, 202...  \n",
              "4  [202.0, 205.0, 209.0, 210.0, 209.0, 209.0, 210...  "
            ],
            "text/html": [
              "\n",
              "  <div id=\"df-b9c3f6c6-f7eb-43d8-97e7-d385e525f3d6\">\n",
              "    <div class=\"colab-df-container\">\n",
              "      <div>\n",
              "<style scoped>\n",
              "    .dataframe tbody tr th:only-of-type {\n",
              "        vertical-align: middle;\n",
              "    }\n",
              "\n",
              "    .dataframe tbody tr th {\n",
              "        vertical-align: top;\n",
              "    }\n",
              "\n",
              "    .dataframe thead th {\n",
              "        text-align: right;\n",
              "    }\n",
              "</style>\n",
              "<table border=\"1\" class=\"dataframe\">\n",
              "  <thead>\n",
              "    <tr style=\"text-align: right;\">\n",
              "      <th></th>\n",
              "      <th>age</th>\n",
              "      <th>ethnicity</th>\n",
              "      <th>gender</th>\n",
              "      <th>img_name</th>\n",
              "      <th>pixels</th>\n",
              "    </tr>\n",
              "  </thead>\n",
              "  <tbody>\n",
              "    <tr>\n",
              "      <th>0</th>\n",
              "      <td>1</td>\n",
              "      <td>2</td>\n",
              "      <td>0</td>\n",
              "      <td>20161219203650636.jpg.chip.jpg</td>\n",
              "      <td>[129.0, 128.0, 128.0, 126.0, 127.0, 130.0, 133...</td>\n",
              "    </tr>\n",
              "    <tr>\n",
              "      <th>1</th>\n",
              "      <td>1</td>\n",
              "      <td>2</td>\n",
              "      <td>0</td>\n",
              "      <td>20161219222752047.jpg.chip.jpg</td>\n",
              "      <td>[164.0, 74.0, 111.0, 168.0, 169.0, 171.0, 175....</td>\n",
              "    </tr>\n",
              "    <tr>\n",
              "      <th>2</th>\n",
              "      <td>1</td>\n",
              "      <td>2</td>\n",
              "      <td>0</td>\n",
              "      <td>20161219222832191.jpg.chip.jpg</td>\n",
              "      <td>[67.0, 70.0, 71.0, 70.0, 69.0, 67.0, 70.0, 79....</td>\n",
              "    </tr>\n",
              "    <tr>\n",
              "      <th>3</th>\n",
              "      <td>1</td>\n",
              "      <td>2</td>\n",
              "      <td>0</td>\n",
              "      <td>20161220144911423.jpg.chip.jpg</td>\n",
              "      <td>[193.0, 197.0, 198.0, 200.0, 199.0, 200.0, 202...</td>\n",
              "    </tr>\n",
              "    <tr>\n",
              "      <th>4</th>\n",
              "      <td>1</td>\n",
              "      <td>2</td>\n",
              "      <td>0</td>\n",
              "      <td>20161220144914327.jpg.chip.jpg</td>\n",
              "      <td>[202.0, 205.0, 209.0, 210.0, 209.0, 209.0, 210...</td>\n",
              "    </tr>\n",
              "  </tbody>\n",
              "</table>\n",
              "</div>\n",
              "      <button class=\"colab-df-convert\" onclick=\"convertToInteractive('df-b9c3f6c6-f7eb-43d8-97e7-d385e525f3d6')\"\n",
              "              title=\"Convert this dataframe to an interactive table.\"\n",
              "              style=\"display:none;\">\n",
              "        \n",
              "  <svg xmlns=\"http://www.w3.org/2000/svg\" height=\"24px\"viewBox=\"0 0 24 24\"\n",
              "       width=\"24px\">\n",
              "    <path d=\"M0 0h24v24H0V0z\" fill=\"none\"/>\n",
              "    <path d=\"M18.56 5.44l.94 2.06.94-2.06 2.06-.94-2.06-.94-.94-2.06-.94 2.06-2.06.94zm-11 1L8.5 8.5l.94-2.06 2.06-.94-2.06-.94L8.5 2.5l-.94 2.06-2.06.94zm10 10l.94 2.06.94-2.06 2.06-.94-2.06-.94-.94-2.06-.94 2.06-2.06.94z\"/><path d=\"M17.41 7.96l-1.37-1.37c-.4-.4-.92-.59-1.43-.59-.52 0-1.04.2-1.43.59L10.3 9.45l-7.72 7.72c-.78.78-.78 2.05 0 2.83L4 21.41c.39.39.9.59 1.41.59.51 0 1.02-.2 1.41-.59l7.78-7.78 2.81-2.81c.8-.78.8-2.07 0-2.86zM5.41 20L4 18.59l7.72-7.72 1.47 1.35L5.41 20z\"/>\n",
              "  </svg>\n",
              "      </button>\n",
              "      \n",
              "  <style>\n",
              "    .colab-df-container {\n",
              "      display:flex;\n",
              "      flex-wrap:wrap;\n",
              "      gap: 12px;\n",
              "    }\n",
              "\n",
              "    .colab-df-convert {\n",
              "      background-color: #E8F0FE;\n",
              "      border: none;\n",
              "      border-radius: 50%;\n",
              "      cursor: pointer;\n",
              "      display: none;\n",
              "      fill: #1967D2;\n",
              "      height: 32px;\n",
              "      padding: 0 0 0 0;\n",
              "      width: 32px;\n",
              "    }\n",
              "\n",
              "    .colab-df-convert:hover {\n",
              "      background-color: #E2EBFA;\n",
              "      box-shadow: 0px 1px 2px rgba(60, 64, 67, 0.3), 0px 1px 3px 1px rgba(60, 64, 67, 0.15);\n",
              "      fill: #174EA6;\n",
              "    }\n",
              "\n",
              "    [theme=dark] .colab-df-convert {\n",
              "      background-color: #3B4455;\n",
              "      fill: #D2E3FC;\n",
              "    }\n",
              "\n",
              "    [theme=dark] .colab-df-convert:hover {\n",
              "      background-color: #434B5C;\n",
              "      box-shadow: 0px 1px 3px 1px rgba(0, 0, 0, 0.15);\n",
              "      filter: drop-shadow(0px 1px 2px rgba(0, 0, 0, 0.3));\n",
              "      fill: #FFFFFF;\n",
              "    }\n",
              "  </style>\n",
              "\n",
              "      <script>\n",
              "        const buttonEl =\n",
              "          document.querySelector('#df-b9c3f6c6-f7eb-43d8-97e7-d385e525f3d6 button.colab-df-convert');\n",
              "        buttonEl.style.display =\n",
              "          google.colab.kernel.accessAllowed ? 'block' : 'none';\n",
              "\n",
              "        async function convertToInteractive(key) {\n",
              "          const element = document.querySelector('#df-b9c3f6c6-f7eb-43d8-97e7-d385e525f3d6');\n",
              "          const dataTable =\n",
              "            await google.colab.kernel.invokeFunction('convertToInteractive',\n",
              "                                                     [key], {});\n",
              "          if (!dataTable) return;\n",
              "\n",
              "          const docLinkHtml = 'Like what you see? Visit the ' +\n",
              "            '<a target=\"_blank\" href=https://colab.research.google.com/notebooks/data_table.ipynb>data table notebook</a>'\n",
              "            + ' to learn more about interactive tables.';\n",
              "          element.innerHTML = '';\n",
              "          dataTable['output_type'] = 'display_data';\n",
              "          await google.colab.output.renderOutput(dataTable, element);\n",
              "          const docLink = document.createElement('div');\n",
              "          docLink.innerHTML = docLinkHtml;\n",
              "          element.appendChild(docLink);\n",
              "        }\n",
              "      </script>\n",
              "    </div>\n",
              "  </div>\n",
              "  "
            ]
          },
          "metadata": {},
          "execution_count": 7
        }
      ]
    },
    {
      "cell_type": "markdown",
      "source": [
        "**Normalize the data**"
      ],
      "metadata": {
        "id": "wzbjl7eZ-BPa"
      }
    },
    {
      "cell_type": "code",
      "source": [
        "data_df['pixels'] = data_df['pixels'].apply(lambda x: x/255)\n",
        "data_df.head()"
      ],
      "metadata": {
        "colab": {
          "base_uri": "https://localhost:8080/",
          "height": 206
        },
        "id": "9RWsWENo7Uxe",
        "outputId": "76b17fb1-1362-42bc-82b9-5972a252da8b"
      },
      "execution_count": 8,
      "outputs": [
        {
          "output_type": "execute_result",
          "data": {
            "text/plain": [
              "   age  ethnicity  gender                        img_name  \\\n",
              "0    1          2       0  20161219203650636.jpg.chip.jpg   \n",
              "1    1          2       0  20161219222752047.jpg.chip.jpg   \n",
              "2    1          2       0  20161219222832191.jpg.chip.jpg   \n",
              "3    1          2       0  20161220144911423.jpg.chip.jpg   \n",
              "4    1          2       0  20161220144914327.jpg.chip.jpg   \n",
              "\n",
              "                                              pixels  \n",
              "0  [0.5058824, 0.5019608, 0.5019608, 0.49411765, ...  \n",
              "1  [0.6431373, 0.2901961, 0.43529412, 0.65882355,...  \n",
              "2  [0.2627451, 0.27450982, 0.2784314, 0.27450982,...  \n",
              "3  [0.75686276, 0.77254903, 0.7764706, 0.78431374...  \n",
              "4  [0.7921569, 0.8039216, 0.81960785, 0.8235294, ...  "
            ],
            "text/html": [
              "\n",
              "  <div id=\"df-dd42a3ee-dc02-4991-8c13-f81e46630d92\">\n",
              "    <div class=\"colab-df-container\">\n",
              "      <div>\n",
              "<style scoped>\n",
              "    .dataframe tbody tr th:only-of-type {\n",
              "        vertical-align: middle;\n",
              "    }\n",
              "\n",
              "    .dataframe tbody tr th {\n",
              "        vertical-align: top;\n",
              "    }\n",
              "\n",
              "    .dataframe thead th {\n",
              "        text-align: right;\n",
              "    }\n",
              "</style>\n",
              "<table border=\"1\" class=\"dataframe\">\n",
              "  <thead>\n",
              "    <tr style=\"text-align: right;\">\n",
              "      <th></th>\n",
              "      <th>age</th>\n",
              "      <th>ethnicity</th>\n",
              "      <th>gender</th>\n",
              "      <th>img_name</th>\n",
              "      <th>pixels</th>\n",
              "    </tr>\n",
              "  </thead>\n",
              "  <tbody>\n",
              "    <tr>\n",
              "      <th>0</th>\n",
              "      <td>1</td>\n",
              "      <td>2</td>\n",
              "      <td>0</td>\n",
              "      <td>20161219203650636.jpg.chip.jpg</td>\n",
              "      <td>[0.5058824, 0.5019608, 0.5019608, 0.49411765, ...</td>\n",
              "    </tr>\n",
              "    <tr>\n",
              "      <th>1</th>\n",
              "      <td>1</td>\n",
              "      <td>2</td>\n",
              "      <td>0</td>\n",
              "      <td>20161219222752047.jpg.chip.jpg</td>\n",
              "      <td>[0.6431373, 0.2901961, 0.43529412, 0.65882355,...</td>\n",
              "    </tr>\n",
              "    <tr>\n",
              "      <th>2</th>\n",
              "      <td>1</td>\n",
              "      <td>2</td>\n",
              "      <td>0</td>\n",
              "      <td>20161219222832191.jpg.chip.jpg</td>\n",
              "      <td>[0.2627451, 0.27450982, 0.2784314, 0.27450982,...</td>\n",
              "    </tr>\n",
              "    <tr>\n",
              "      <th>3</th>\n",
              "      <td>1</td>\n",
              "      <td>2</td>\n",
              "      <td>0</td>\n",
              "      <td>20161220144911423.jpg.chip.jpg</td>\n",
              "      <td>[0.75686276, 0.77254903, 0.7764706, 0.78431374...</td>\n",
              "    </tr>\n",
              "    <tr>\n",
              "      <th>4</th>\n",
              "      <td>1</td>\n",
              "      <td>2</td>\n",
              "      <td>0</td>\n",
              "      <td>20161220144914327.jpg.chip.jpg</td>\n",
              "      <td>[0.7921569, 0.8039216, 0.81960785, 0.8235294, ...</td>\n",
              "    </tr>\n",
              "  </tbody>\n",
              "</table>\n",
              "</div>\n",
              "      <button class=\"colab-df-convert\" onclick=\"convertToInteractive('df-dd42a3ee-dc02-4991-8c13-f81e46630d92')\"\n",
              "              title=\"Convert this dataframe to an interactive table.\"\n",
              "              style=\"display:none;\">\n",
              "        \n",
              "  <svg xmlns=\"http://www.w3.org/2000/svg\" height=\"24px\"viewBox=\"0 0 24 24\"\n",
              "       width=\"24px\">\n",
              "    <path d=\"M0 0h24v24H0V0z\" fill=\"none\"/>\n",
              "    <path d=\"M18.56 5.44l.94 2.06.94-2.06 2.06-.94-2.06-.94-.94-2.06-.94 2.06-2.06.94zm-11 1L8.5 8.5l.94-2.06 2.06-.94-2.06-.94L8.5 2.5l-.94 2.06-2.06.94zm10 10l.94 2.06.94-2.06 2.06-.94-2.06-.94-.94-2.06-.94 2.06-2.06.94z\"/><path d=\"M17.41 7.96l-1.37-1.37c-.4-.4-.92-.59-1.43-.59-.52 0-1.04.2-1.43.59L10.3 9.45l-7.72 7.72c-.78.78-.78 2.05 0 2.83L4 21.41c.39.39.9.59 1.41.59.51 0 1.02-.2 1.41-.59l7.78-7.78 2.81-2.81c.8-.78.8-2.07 0-2.86zM5.41 20L4 18.59l7.72-7.72 1.47 1.35L5.41 20z\"/>\n",
              "  </svg>\n",
              "      </button>\n",
              "      \n",
              "  <style>\n",
              "    .colab-df-container {\n",
              "      display:flex;\n",
              "      flex-wrap:wrap;\n",
              "      gap: 12px;\n",
              "    }\n",
              "\n",
              "    .colab-df-convert {\n",
              "      background-color: #E8F0FE;\n",
              "      border: none;\n",
              "      border-radius: 50%;\n",
              "      cursor: pointer;\n",
              "      display: none;\n",
              "      fill: #1967D2;\n",
              "      height: 32px;\n",
              "      padding: 0 0 0 0;\n",
              "      width: 32px;\n",
              "    }\n",
              "\n",
              "    .colab-df-convert:hover {\n",
              "      background-color: #E2EBFA;\n",
              "      box-shadow: 0px 1px 2px rgba(60, 64, 67, 0.3), 0px 1px 3px 1px rgba(60, 64, 67, 0.15);\n",
              "      fill: #174EA6;\n",
              "    }\n",
              "\n",
              "    [theme=dark] .colab-df-convert {\n",
              "      background-color: #3B4455;\n",
              "      fill: #D2E3FC;\n",
              "    }\n",
              "\n",
              "    [theme=dark] .colab-df-convert:hover {\n",
              "      background-color: #434B5C;\n",
              "      box-shadow: 0px 1px 3px 1px rgba(0, 0, 0, 0.15);\n",
              "      filter: drop-shadow(0px 1px 2px rgba(0, 0, 0, 0.3));\n",
              "      fill: #FFFFFF;\n",
              "    }\n",
              "  </style>\n",
              "\n",
              "      <script>\n",
              "        const buttonEl =\n",
              "          document.querySelector('#df-dd42a3ee-dc02-4991-8c13-f81e46630d92 button.colab-df-convert');\n",
              "        buttonEl.style.display =\n",
              "          google.colab.kernel.accessAllowed ? 'block' : 'none';\n",
              "\n",
              "        async function convertToInteractive(key) {\n",
              "          const element = document.querySelector('#df-dd42a3ee-dc02-4991-8c13-f81e46630d92');\n",
              "          const dataTable =\n",
              "            await google.colab.kernel.invokeFunction('convertToInteractive',\n",
              "                                                     [key], {});\n",
              "          if (!dataTable) return;\n",
              "\n",
              "          const docLinkHtml = 'Like what you see? Visit the ' +\n",
              "            '<a target=\"_blank\" href=https://colab.research.google.com/notebooks/data_table.ipynb>data table notebook</a>'\n",
              "            + ' to learn more about interactive tables.';\n",
              "          element.innerHTML = '';\n",
              "          dataTable['output_type'] = 'display_data';\n",
              "          await google.colab.output.renderOutput(dataTable, element);\n",
              "          const docLink = document.createElement('div');\n",
              "          docLink.innerHTML = docLinkHtml;\n",
              "          element.appendChild(docLink);\n",
              "        }\n",
              "      </script>\n",
              "    </div>\n",
              "  </div>\n",
              "  "
            ]
          },
          "metadata": {},
          "execution_count": 8
        }
      ]
    },
    {
      "cell_type": "markdown",
      "source": [
        "**Exploratory data analysis**"
      ],
      "metadata": {
        "id": "T_-wOUCz844q"
      }
    },
    {
      "cell_type": "code",
      "source": [
        "data_df.dtypes"
      ],
      "metadata": {
        "colab": {
          "base_uri": "https://localhost:8080/"
        },
        "id": "2S9vYSiN-h9i",
        "outputId": "327608ae-c31f-4754-c3ca-8c1d93fde750"
      },
      "execution_count": 9,
      "outputs": [
        {
          "output_type": "execute_result",
          "data": {
            "text/plain": [
              "age           int64\n",
              "ethnicity     int64\n",
              "gender        int64\n",
              "img_name     object\n",
              "pixels       object\n",
              "dtype: object"
            ]
          },
          "metadata": {},
          "execution_count": 9
        }
      ]
    },
    {
      "cell_type": "code",
      "source": [
        "age_index = data_df['age'].value_counts().index\n",
        "age_values = data_df['age'].value_counts().values"
      ],
      "metadata": {
        "id": "OdyDD6QY-l3e"
      },
      "execution_count": 10,
      "outputs": []
    },
    {
      "cell_type": "code",
      "source": [
        "sns.histplot(data=data_df['age'])"
      ],
      "metadata": {
        "colab": {
          "base_uri": "https://localhost:8080/",
          "height": 297
        },
        "id": "nesCWrlF_RkY",
        "outputId": "d33d6f03-2355-4ff9-c221-1ff1ceee16fa"
      },
      "execution_count": 11,
      "outputs": [
        {
          "output_type": "execute_result",
          "data": {
            "text/plain": [
              "<matplotlib.axes._subplots.AxesSubplot at 0x7f0f776c0a50>"
            ]
          },
          "metadata": {},
          "execution_count": 11
        },
        {
          "output_type": "display_data",
          "data": {
            "text/plain": [
              "<Figure size 432x288 with 1 Axes>"
            ],
            "image/png": "[encoded data removed]"
          },
          "metadata": {
            "needs_background": "light"
          }
        }
      ]
    },
    {
      "cell_type": "code",
      "source": [
        "sns.histplot(data=data_df['gender'], bins=2)"
      ],
      "metadata": {
        "colab": {
          "base_uri": "https://localhost:8080/",
          "height": 297
        },
        "id": "nRPOi0I--t8j",
        "outputId": "7ceef6dc-4ae5-4e11-a00b-304219ab9e57"
      },
      "execution_count": 12,
      "outputs": [
        {
          "output_type": "execute_result",
          "data": {
            "text/plain": [
              "<matplotlib.axes._subplots.AxesSubplot at 0x7f0f77abbc90>"
            ]
          },
          "metadata": {},
          "execution_count": 12
        },
        {
          "output_type": "display_data",
          "data": {
            "text/plain": [
              "<Figure size 432x288 with 1 Axes>"
            ],
            "image/png": "[encoded data removed]"
          },
          "metadata": {
            "needs_background": "light"
          }
        }
      ]
    },
    {
      "cell_type": "code",
      "source": [
        "data_df['ethnicity'].nunique()"
      ],
      "metadata": {
        "colab": {
          "base_uri": "https://localhost:8080/"
        },
        "id": "Z3r3hfRQCWHt",
        "outputId": "4fc200f9-4cad-47c1-f861-66b4c4524ea3"
      },
      "execution_count": 13,
      "outputs": [
        {
          "output_type": "execute_result",
          "data": {
            "text/plain": [
              "5"
            ]
          },
          "metadata": {},
          "execution_count": 13
        }
      ]
    },
    {
      "cell_type": "code",
      "source": [
        "sns.histplot(data=data_df['ethnicity'], bins=5)"
      ],
      "metadata": {
        "colab": {
          "base_uri": "https://localhost:8080/",
          "height": 297
        },
        "id": "3yZyLEwECI3i",
        "outputId": "83fe3ee6-3298-4fb1-aae7-c19a4ac4d1c2"
      },
      "execution_count": 14,
      "outputs": [
        {
          "output_type": "execute_result",
          "data": {
            "text/plain": [
              "<matplotlib.axes._subplots.AxesSubplot at 0x7f0f779a5b50>"
            ]
          },
          "metadata": {},
          "execution_count": 14
        },
        {
          "output_type": "display_data",
          "data": {
            "text/plain": [
              "<Figure size 432x288 with 1 Axes>"
            ],
            "image/png": "[encoded data removed]"
          },
          "metadata": {
            "needs_background": "light"
          }
        }
      ]
    },
    {
      "cell_type": "markdown",
      "source": [
        "**Reshaping images**"
      ],
      "metadata": {
        "id": "vNdnFC4WCQgG"
      }
    },
    {
      "cell_type": "code",
      "source": [
        "X = data_df['pixels']\n",
        "X"
      ],
      "metadata": {
        "colab": {
          "base_uri": "https://localhost:8080/"
        },
        "id": "R17U_AH2FfOw",
        "outputId": "ae9870d7-2add-432a-8ec6-7ded7fb09b85"
      },
      "execution_count": 15,
      "outputs": [
        {
          "output_type": "execute_result",
          "data": {
            "text/plain": [
              "0        [0.5058824, 0.5019608, 0.5019608, 0.49411765, ...\n",
              "1        [0.6431373, 0.2901961, 0.43529412, 0.65882355,...\n",
              "2        [0.2627451, 0.27450982, 0.2784314, 0.27450982,...\n",
              "3        [0.75686276, 0.77254903, 0.7764706, 0.78431374...\n",
              "4        [0.7921569, 0.8039216, 0.81960785, 0.8235294, ...\n",
              "                               ...                        \n",
              "23700    [0.49803922, 0.39215687, 0.36862746, 0.3176470...\n",
              "23701    [0.09019608, 0.10980392, 0.1254902, 0.13725491...\n",
              "23702    [0.23137255, 0.19607843, 0.14509805, 0.1568627...\n",
              "23703    [0.1764706, 0.42352942, 0.47058824, 0.6117647,...\n",
              "23704    [0.6117647, 0.6313726, 0.627451, 0.64705884, 0...\n",
              "Name: pixels, Length: 23705, dtype: object"
            ]
          },
          "metadata": {},
          "execution_count": 15
        }
      ]
    },
    {
      "cell_type": "code",
      "source": [
        "X_array = np.array(data_df['pixels'])\n",
        "X_array"
      ],
      "metadata": {
        "colab": {
          "base_uri": "https://localhost:8080/"
        },
        "id": "H-ma2CEWEcLF",
        "outputId": "06354459-ca73-4e54-fca5-e589dc0d6f69"
      },
      "execution_count": 16,
      "outputs": [
        {
          "output_type": "execute_result",
          "data": {
            "text/plain": [
              "array([array([0.5058824 , 0.5019608 , 0.5019608 , ..., 0.57254905, 0.57254905,\n",
              "              0.57254905], dtype=float32)                                     ,\n",
              "       array([0.6431373 , 0.2901961 , 0.43529412, ..., 0.7137255 , 0.6666667 ,\n",
              "              0.5803922 ], dtype=float32)                                     ,\n",
              "       array([0.2627451 , 0.27450982, 0.2784314 , ..., 0.4392157 , 0.43529412,\n",
              "              0.42352942], dtype=float32)                                     ,\n",
              "       ...,\n",
              "       array([0.23137255, 0.19607843, 0.14509805, ..., 0.38431373, 0.30588236,\n",
              "              0.30588236], dtype=float32)                                     ,\n",
              "       array([0.1764706 , 0.42352942, 0.47058824, ..., 0.1254902 , 0.13725491,\n",
              "              0.13725491], dtype=float32)                                     ,\n",
              "       array([0.6117647 , 0.6313726 , 0.627451  , ..., 0.74509805, 0.72156864,\n",
              "              0.68235296], dtype=float32)                                     ],\n",
              "      dtype=object)"
            ]
          },
          "metadata": {},
          "execution_count": 16
        }
      ]
    },
    {
      "cell_type": "code",
      "source": [
        "X_list = np.array(data_df['pixels'].tolist())\n",
        "X_list"
      ],
      "metadata": {
        "colab": {
          "base_uri": "https://localhost:8080/"
        },
        "id": "q5WyNPXbFWbS",
        "outputId": "35ef9813-2e14-4f42-fc55-a2782217233a"
      },
      "execution_count": 17,
      "outputs": [
        {
          "output_type": "execute_result",
          "data": {
            "text/plain": [
              "array([[0.5058824 , 0.5019608 , 0.5019608 , ..., 0.57254905, 0.57254905,\n",
              "        0.57254905],\n",
              "       [0.6431373 , 0.2901961 , 0.43529412, ..., 0.7137255 , 0.6666667 ,\n",
              "        0.5803922 ],\n",
              "       [0.2627451 , 0.27450982, 0.2784314 , ..., 0.4392157 , 0.43529412,\n",
              "        0.42352942],\n",
              "       ...,\n",
              "       [0.23137255, 0.19607843, 0.14509805, ..., 0.38431373, 0.30588236,\n",
              "        0.30588236],\n",
              "       [0.1764706 , 0.42352942, 0.47058824, ..., 0.1254902 , 0.13725491,\n",
              "        0.13725491],\n",
              "       [0.6117647 , 0.6313726 , 0.627451  , ..., 0.74509805, 0.72156864,\n",
              "        0.68235296]], dtype=float32)"
            ]
          },
          "metadata": {},
          "execution_count": 17
        }
      ]
    },
    {
      "cell_type": "code",
      "source": [
        "X_list.shape"
      ],
      "metadata": {
        "colab": {
          "base_uri": "https://localhost:8080/"
        },
        "id": "8WEm57MQGOZs",
        "outputId": "f4afedfe-3f27-48a1-9fd1-88799d54e090"
      },
      "execution_count": 18,
      "outputs": [
        {
          "output_type": "execute_result",
          "data": {
            "text/plain": [
              "(23705, 2304)"
            ]
          },
          "metadata": {},
          "execution_count": 18
        }
      ]
    },
    {
      "cell_type": "markdown",
      "source": [
        "**Found the number of pixels / size of image by taking the square root of the length of each array - assumed one channel (black and white images)**"
      ],
      "metadata": {
        "id": "kRySy8FWHTCw"
      }
    },
    {
      "cell_type": "code",
      "source": [
        "X = np.reshape(X_list, (23705, 48, 48, 1))"
      ],
      "metadata": {
        "id": "kS3xjTbqFvGM"
      },
      "execution_count": 19,
      "outputs": []
    },
    {
      "cell_type": "code",
      "source": [
        "X.shape"
      ],
      "metadata": {
        "colab": {
          "base_uri": "https://localhost:8080/"
        },
        "id": "LApaxX6mGtzD",
        "outputId": "9525e4f4-376d-421a-ab6c-16c4972b1cc4"
      },
      "execution_count": 20,
      "outputs": [
        {
          "output_type": "execute_result",
          "data": {
            "text/plain": [
              "(23705, 48, 48, 1)"
            ]
          },
          "metadata": {},
          "execution_count": 20
        }
      ]
    },
    {
      "cell_type": "markdown",
      "source": [
        "**Plot of faces**"
      ],
      "metadata": {
        "id": "E092m7J-Pbxf"
      }
    },
    {
      "cell_type": "code",
      "source": [
        "fig = plt.figure(figsize=(13,10))\n",
        "for i in range(10, 25):\n",
        "    plt.subplot(5, 5, i + 1)\n",
        "    plt.imshow(data_df.pixels.iloc[i].reshape(48, 48), cmap=plt.cm.gray)\n",
        "    plt.xlabel(f\"Ethnicity: {data_df.ethnicity.iloc[i]} Age: {data_df.age.iloc[i]} Gender: {data_df.gender.iloc[i]}\")\n",
        "    plt.xticks(()); plt.yticks(())"
      ],
      "metadata": {
        "colab": {
          "base_uri": "https://localhost:8080/",
          "height": 364
        },
        "id": "hj3X-nBAGvKG",
        "outputId": "2a3de689-86bb-4f65-dc7f-c3d550eb8248"
      },
      "execution_count": 53,
      "outputs": [
        {
          "output_type": "display_data",
          "data": {
            "text/plain": [
              "<Figure size 936x720 with 15 Axes>"
            ],
            "image/png": "[encoded data removed]"
          },
          "metadata": {}
        }
      ]
    },
    {
      "cell_type": "markdown",
      "source": [
        "**Establish targets**"
      ],
      "metadata": {
        "id": "_R-YOvaBP9jz"
      }
    },
    {
      "cell_type": "code",
      "source": [
        "Y_1 = data_df.ethnicity\n",
        "Y_2 = data_df.age\n",
        "Y_3 = data_df.gender"
      ],
      "metadata": {
        "id": "AAsg1xwrIckH"
      },
      "execution_count": 22,
      "outputs": []
    },
    {
      "cell_type": "markdown",
      "source": [
        "**Ethnicity model**"
      ],
      "metadata": {
        "id": "A3i8phfXQmlh"
      }
    },
    {
      "cell_type": "code",
      "source": [
        "X_train, X_test, y_train, y_test = train_test_split(X, Y_1, train_size=0.7)"
      ],
      "metadata": {
        "id": "FH4PYF5WPoh-"
      },
      "execution_count": 23,
      "outputs": []
    },
    {
      "cell_type": "code",
      "source": [
        "model_ethnicity = Sequential()\n",
        "\n",
        "model_ethnicity.add(layers.Conv2D(16, (4,4), input_shape=(48, 48, 1), activation=\"relu\"))\n",
        "model_ethnicity.add(layers.MaxPool2D(pool_size=(2,2)))\n",
        "model_ethnicity.add(layers.Dropout(rate=0.4))\n",
        "\n",
        "model_ethnicity.add(layers.Conv2D(32, (2,2), activation=\"relu\"))\n",
        "model_ethnicity.add(layers.MaxPool2D(pool_size=(2,2)))\n",
        "model_ethnicity.add(layers.Dropout(rate=0.2))\n",
        "\n",
        "model_ethnicity.add(layers.Flatten())\n",
        "model_ethnicity.add(layers.Dense(50, activation=\"relu\")) # intermediate layer\n",
        "model_ethnicity.add(layers.Dense(5, activation=\"softmax\"))\n",
        "\n",
        "model_ethnicity.summary()"
      ],
      "metadata": {
        "colab": {
          "base_uri": "https://localhost:8080/"
        },
        "id": "xlRpzzimQsxM",
        "outputId": "1d689ab7-1ebf-4b51-8813-537e5b34b83e"
      },
      "execution_count": 24,
      "outputs": [
        {
          "output_type": "stream",
          "name": "stdout",
          "text": [
            "Model: \"sequential\"\n",
            "_________________________________________________________________\n",
            " Layer (type)                Output Shape              Param #   \n",
            "=================================================================\n",
            " conv2d (Conv2D)             (None, 45, 45, 16)        272       \n",
            "                                                                 \n",
            " max_pooling2d (MaxPooling2D  (None, 22, 22, 16)       0         \n",
            " )                                                               \n",
            "                                                                 \n",
            " dropout (Dropout)           (None, 22, 22, 16)        0         \n",
            "                                                                 \n",
            " conv2d_1 (Conv2D)           (None, 21, 21, 32)        2080      \n",
            "                                                                 \n",
            " max_pooling2d_1 (MaxPooling  (None, 10, 10, 32)       0         \n",
            " 2D)                                                             \n",
            "                                                                 \n",
            " dropout_1 (Dropout)         (None, 10, 10, 32)        0         \n",
            "                                                                 \n",
            " flatten (Flatten)           (None, 3200)              0         \n",
            "                                                                 \n",
            " dense (Dense)               (None, 50)                160050    \n",
            "                                                                 \n",
            " dense_1 (Dense)             (None, 5)                 255       \n",
            "                                                                 \n",
            "=================================================================\n",
            "Total params: 162,657\n",
            "Trainable params: 162,657\n",
            "Non-trainable params: 0\n",
            "_________________________________________________________________\n"
          ]
        }
      ]
    },
    {
      "cell_type": "code",
      "source": [
        "model_ethnicity.compile(loss='sparse_categorical_crossentropy',\n",
        "              optimizer='adam',\n",
        "              metrics=['accuracy'])"
      ],
      "metadata": {
        "id": "qhZJ2stOsnb_"
      },
      "execution_count": 25,
      "outputs": []
    },
    {
      "cell_type": "code",
      "source": [
        "es = callbacks.EarlyStopping(patience=10, restore_best_weights=True)\n",
        "\n",
        "history = model_ethnicity.fit(X_train, y_train,\n",
        "          epochs= 20,\n",
        "          verbose= 1,\n",
        "          callbacks=[es],\n",
        "          validation_split=0.2,\n",
        "          batch_size= 32)"
      ],
      "metadata": {
        "colab": {
          "base_uri": "https://localhost:8080/"
        },
        "id": "_YSVlkoenloT",
        "outputId": "21406ff7-048e-4521-90fb-ec0fea493971"
      },
      "execution_count": 26,
      "outputs": [
        {
          "output_type": "stream",
          "name": "stdout",
          "text": [
            "Epoch 1/20\n",
            "415/415 [==============================] - 15s 8ms/step - loss: 1.2601 - accuracy: 0.5044 - val_loss: 1.0531 - val_accuracy: 0.6442\n",
            "Epoch 2/20\n",
            "415/415 [==============================] - 4s 9ms/step - loss: 0.9629 - accuracy: 0.6477 - val_loss: 0.8940 - val_accuracy: 0.6966\n",
            "Epoch 3/20\n",
            "415/415 [==============================] - 3s 8ms/step - loss: 0.8907 - accuracy: 0.6810 - val_loss: 0.8391 - val_accuracy: 0.7231\n",
            "Epoch 4/20\n",
            "415/415 [==============================] - 3s 7ms/step - loss: 0.8492 - accuracy: 0.6962 - val_loss: 0.8312 - val_accuracy: 0.7177\n",
            "Epoch 5/20\n",
            "415/415 [==============================] - 4s 9ms/step - loss: 0.8059 - accuracy: 0.7121 - val_loss: 0.7854 - val_accuracy: 0.7346\n",
            "Epoch 6/20\n",
            "415/415 [==============================] - 4s 9ms/step - loss: 0.7867 - accuracy: 0.7194 - val_loss: 0.7725 - val_accuracy: 0.7382\n",
            "Epoch 7/20\n",
            "415/415 [==============================] - 2s 5ms/step - loss: 0.7742 - accuracy: 0.7272 - val_loss: 0.7587 - val_accuracy: 0.7367\n",
            "Epoch 8/20\n",
            "415/415 [==============================] - 2s 4ms/step - loss: 0.7522 - accuracy: 0.7359 - val_loss: 0.7547 - val_accuracy: 0.7427\n",
            "Epoch 9/20\n",
            "415/415 [==============================] - 2s 4ms/step - loss: 0.7388 - accuracy: 0.7384 - val_loss: 0.7134 - val_accuracy: 0.7529\n",
            "Epoch 10/20\n",
            "415/415 [==============================] - 2s 4ms/step - loss: 0.7185 - accuracy: 0.7470 - val_loss: 0.7035 - val_accuracy: 0.7602\n",
            "Epoch 11/20\n",
            "415/415 [==============================] - 2s 4ms/step - loss: 0.7024 - accuracy: 0.7512 - val_loss: 0.7585 - val_accuracy: 0.7403\n",
            "Epoch 12/20\n",
            "415/415 [==============================] - 2s 4ms/step - loss: 0.6952 - accuracy: 0.7537 - val_loss: 0.7101 - val_accuracy: 0.7581\n",
            "Epoch 13/20\n",
            "415/415 [==============================] - 2s 4ms/step - loss: 0.6844 - accuracy: 0.7551 - val_loss: 0.6966 - val_accuracy: 0.7563\n",
            "Epoch 14/20\n",
            "415/415 [==============================] - 2s 4ms/step - loss: 0.6721 - accuracy: 0.7625 - val_loss: 0.6924 - val_accuracy: 0.7569\n",
            "Epoch 15/20\n",
            "415/415 [==============================] - 2s 4ms/step - loss: 0.6617 - accuracy: 0.7598 - val_loss: 0.6832 - val_accuracy: 0.7587\n",
            "Epoch 16/20\n",
            "415/415 [==============================] - 2s 4ms/step - loss: 0.6430 - accuracy: 0.7739 - val_loss: 0.6684 - val_accuracy: 0.7659\n",
            "Epoch 17/20\n",
            "415/415 [==============================] - 2s 4ms/step - loss: 0.6373 - accuracy: 0.7732 - val_loss: 0.6657 - val_accuracy: 0.7680\n",
            "Epoch 18/20\n",
            "415/415 [==============================] - 2s 4ms/step - loss: 0.6313 - accuracy: 0.7747 - val_loss: 0.6969 - val_accuracy: 0.7614\n",
            "Epoch 19/20\n",
            "415/415 [==============================] - 2s 4ms/step - loss: 0.6226 - accuracy: 0.7755 - val_loss: 0.6753 - val_accuracy: 0.7731\n",
            "Epoch 20/20\n",
            "415/415 [==============================] - 2s 4ms/step - loss: 0.6118 - accuracy: 0.7820 - val_loss: 0.6678 - val_accuracy: 0.7668\n"
          ]
        }
      ]
    },
    {
      "cell_type": "code",
      "source": [
        "print(model_ethnicity.evaluate(X_test, y_test, verbose=0))"
      ],
      "metadata": {
        "colab": {
          "base_uri": "https://localhost:8080/"
        },
        "id": "uZC43kchpXwj",
        "outputId": "8f6a3bba-a2d8-4026-90d1-80b7ed7b94df"
      },
      "execution_count": 27,
      "outputs": [
        {
          "output_type": "stream",
          "name": "stdout",
          "text": [
            "[0.6840109825134277, 0.7594206929206848]\n"
          ]
        }
      ]
    },
    {
      "cell_type": "code",
      "source": [
        "print(history.history.keys())"
      ],
      "metadata": {
        "colab": {
          "base_uri": "https://localhost:8080/"
        },
        "id": "V1-SAIC6rokB",
        "outputId": "d1d149d2-adbe-45a5-95cf-6f8a892f9544"
      },
      "execution_count": 28,
      "outputs": [
        {
          "output_type": "stream",
          "name": "stdout",
          "text": [
            "dict_keys(['loss', 'accuracy', 'val_loss', 'val_accuracy'])\n"
          ]
        }
      ]
    },
    {
      "cell_type": "code",
      "source": [
        "plt.plot(figsize=(16,8))\n",
        "plt.plot(history.history['loss'], label='Train loss')\n",
        "plt.plot(history.history['val_loss'], label='Validation loss')\n",
        "plt.xlabel(\"Epochs\")\n",
        "plt.ylabel(\"Loss\")\n",
        "plt.ylim(0,1)\n",
        "plt.legend()"
      ],
      "metadata": {
        "colab": {
          "base_uri": "https://localhost:8080/",
          "height": 301
        },
        "id": "Jsf2veSMxkrK",
        "outputId": "20c8efc2-2217-4e2a-e0ff-b695a938f2db"
      },
      "execution_count": 29,
      "outputs": [
        {
          "output_type": "execute_result",
          "data": {
            "text/plain": [
              "<matplotlib.legend.Legend at 0x7f0f601a3510>"
            ]
          },
          "metadata": {},
          "execution_count": 29
        },
        {
          "output_type": "display_data",
          "data": {
            "text/plain": [
              "<Figure size 432x288 with 1 Axes>"
            ],
            "image/png": "[encoded data removed]"
          },
          "metadata": {
            "needs_background": "light"
          }
        }
      ]
    },
    {
      "cell_type": "code",
      "source": [
        "plt.plot(figsize=(16,8))\n",
        "plt.plot(history.history['accuracy'], label='Train accuracy')\n",
        "plt.plot(history.history['val_accuracy'], label='Validation accuracy')\n",
        "plt.xlabel(\"Epochs\")\n",
        "plt.ylabel(\"Accuracy\")\n",
        "plt.ylim(0,1)\n",
        "plt.legend()"
      ],
      "metadata": {
        "colab": {
          "base_uri": "https://localhost:8080/",
          "height": 301
        },
        "id": "Xjo-EUc-2SKx",
        "outputId": "99e3e525-c47d-4b2b-822c-ba19e30b3ec0"
      },
      "execution_count": 30,
      "outputs": [
        {
          "output_type": "execute_result",
          "data": {
            "text/plain": [
              "<matplotlib.legend.Legend at 0x7f0f600cc0d0>"
            ]
          },
          "metadata": {},
          "execution_count": 30
        },
        {
          "output_type": "display_data",
          "data": {
            "text/plain": [
              "<Figure size 432x288 with 1 Axes>"
            ],
            "image/png": "[encoded data removed]"
          },
          "metadata": {
            "needs_background": "light"
          }
        }
      ]
    },
    {
      "cell_type": "code",
      "source": [
        "models.save_model(model_ethnicity, 'ethnicity_model')"
      ],
      "metadata": {
        "colab": {
          "base_uri": "https://localhost:8080/"
        },
        "id": "UZXp_stfy3zP",
        "outputId": "2f247363-e247-47e9-a454-b9871fc2d8e3"
      },
      "execution_count": 31,
      "outputs": [
        {
          "output_type": "stream",
          "name": "stdout",
          "text": [
            "INFO:tensorflow:Assets written to: ethnicity_model/assets\n"
          ]
        }
      ]
    },
    {
      "cell_type": "markdown",
      "source": [
        "**Age model - linear regression task**"
      ],
      "metadata": {
        "id": "BwToTZUz8cFi"
      }
    },
    {
      "cell_type": "code",
      "source": [
        "X_train, X_test, y_train, y_test = train_test_split(X, Y_2, train_size=0.7)"
      ],
      "metadata": {
        "id": "IyOQNbYaAy90"
      },
      "execution_count": 32,
      "outputs": []
    },
    {
      "cell_type": "code",
      "source": [
        "model_age = Sequential()\n",
        "\n",
        "model_age.add(layers.Conv2D(16, (4,4), input_shape=(48, 48, 1), activation=\"relu\"))\n",
        "model_age.add(layers.MaxPool2D(pool_size=(2,2)))\n",
        "model_age.add(layers.Dropout(rate=0.2))\n",
        "\n",
        "model_age.add(layers.Conv2D(32, (2,2), activation=\"relu\"))\n",
        "model_age.add(layers.MaxPool2D(pool_size=(2,2)))\n",
        "model_age.add(layers.Dropout(rate=0.2))\n",
        "\n",
        "model_age.add(layers.Flatten())\n",
        "model_age.add(layers.Dense(50, activation=\"relu\")) # intermediate layer\n",
        "model_age.add(layers.Dense(1, activation=\"linear\"))\n",
        "\n",
        "model_age.summary()"
      ],
      "metadata": {
        "colab": {
          "base_uri": "https://localhost:8080/"
        },
        "id": "NvLRanbWA039",
        "outputId": "ca55463c-fab8-4665-936f-c872ffc4b2ca"
      },
      "execution_count": 33,
      "outputs": [
        {
          "output_type": "stream",
          "name": "stdout",
          "text": [
            "Model: \"sequential_1\"\n",
            "_________________________________________________________________\n",
            " Layer (type)                Output Shape              Param #   \n",
            "=================================================================\n",
            " conv2d_2 (Conv2D)           (None, 45, 45, 16)        272       \n",
            "                                                                 \n",
            " max_pooling2d_2 (MaxPooling  (None, 22, 22, 16)       0         \n",
            " 2D)                                                             \n",
            "                                                                 \n",
            " dropout_2 (Dropout)         (None, 22, 22, 16)        0         \n",
            "                                                                 \n",
            " conv2d_3 (Conv2D)           (None, 21, 21, 32)        2080      \n",
            "                                                                 \n",
            " max_pooling2d_3 (MaxPooling  (None, 10, 10, 32)       0         \n",
            " 2D)                                                             \n",
            "                                                                 \n",
            " dropout_3 (Dropout)         (None, 10, 10, 32)        0         \n",
            "                                                                 \n",
            " flatten_1 (Flatten)         (None, 3200)              0         \n",
            "                                                                 \n",
            " dense_2 (Dense)             (None, 50)                160050    \n",
            "                                                                 \n",
            " dense_3 (Dense)             (None, 1)                 51        \n",
            "                                                                 \n",
            "=================================================================\n",
            "Total params: 162,453\n",
            "Trainable params: 162,453\n",
            "Non-trainable params: 0\n",
            "_________________________________________________________________\n"
          ]
        }
      ]
    },
    {
      "cell_type": "code",
      "source": [
        "model_age.compile(loss='mse',\n",
        "              optimizer='adam')"
      ],
      "metadata": {
        "id": "X7oR9tw_B13P"
      },
      "execution_count": 34,
      "outputs": []
    },
    {
      "cell_type": "code",
      "source": [
        "es = callbacks.EarlyStopping(patience=10, restore_best_weights=True)\n",
        "\n",
        "history = model_age.fit(X_train, y_train,\n",
        "          epochs= 20,\n",
        "          verbose= 1,\n",
        "          callbacks=[es],\n",
        "          validation_split=0.2,\n",
        "          batch_size= 32)"
      ],
      "metadata": {
        "colab": {
          "base_uri": "https://localhost:8080/"
        },
        "id": "C9fGFI2SB8Hk",
        "outputId": "63a1aa2b-c678-4c00-a52f-965895631130"
      },
      "execution_count": 35,
      "outputs": [
        {
          "output_type": "stream",
          "name": "stdout",
          "text": [
            "Epoch 1/20\n",
            "415/415 [==============================] - 3s 5ms/step - loss: 427.2310 - val_loss: 492.9555\n",
            "Epoch 2/20\n",
            "415/415 [==============================] - 2s 4ms/step - loss: 303.1982 - val_loss: 286.0980\n",
            "Epoch 3/20\n",
            "415/415 [==============================] - 2s 4ms/step - loss: 244.9907 - val_loss: 260.1156\n",
            "Epoch 4/20\n",
            "415/415 [==============================] - 2s 4ms/step - loss: 219.1069 - val_loss: 229.8025\n",
            "Epoch 5/20\n",
            "415/415 [==============================] - 2s 4ms/step - loss: 202.2804 - val_loss: 210.5135\n",
            "Epoch 6/20\n",
            "415/415 [==============================] - 2s 4ms/step - loss: 192.8434 - val_loss: 196.1660\n",
            "Epoch 7/20\n",
            "415/415 [==============================] - 2s 4ms/step - loss: 182.0954 - val_loss: 179.9984\n",
            "Epoch 8/20\n",
            "415/415 [==============================] - 2s 4ms/step - loss: 175.6536 - val_loss: 186.2153\n",
            "Epoch 9/20\n",
            "415/415 [==============================] - 2s 4ms/step - loss: 169.7286 - val_loss: 180.3469\n",
            "Epoch 10/20\n",
            "415/415 [==============================] - 2s 4ms/step - loss: 160.9395 - val_loss: 165.8261\n",
            "Epoch 11/20\n",
            "415/415 [==============================] - 2s 4ms/step - loss: 156.4726 - val_loss: 195.9510\n",
            "Epoch 12/20\n",
            "415/415 [==============================] - 2s 4ms/step - loss: 153.5282 - val_loss: 158.3599\n",
            "Epoch 13/20\n",
            "415/415 [==============================] - 2s 4ms/step - loss: 146.7987 - val_loss: 137.4094\n",
            "Epoch 14/20\n",
            "415/415 [==============================] - 2s 4ms/step - loss: 142.9883 - val_loss: 138.2134\n",
            "Epoch 15/20\n",
            "415/415 [==============================] - 2s 4ms/step - loss: 139.0629 - val_loss: 182.7489\n",
            "Epoch 16/20\n",
            "415/415 [==============================] - 2s 4ms/step - loss: 136.0370 - val_loss: 156.4787\n",
            "Epoch 17/20\n",
            "415/415 [==============================] - 2s 4ms/step - loss: 130.4140 - val_loss: 131.5999\n",
            "Epoch 18/20\n",
            "415/415 [==============================] - 2s 4ms/step - loss: 127.6479 - val_loss: 136.4120\n",
            "Epoch 19/20\n",
            "415/415 [==============================] - 2s 5ms/step - loss: 123.3813 - val_loss: 124.7652\n",
            "Epoch 20/20\n",
            "415/415 [==============================] - 2s 4ms/step - loss: 122.3583 - val_loss: 125.5049\n"
          ]
        }
      ]
    },
    {
      "cell_type": "markdown",
      "source": [
        "**Age model results**"
      ],
      "metadata": {
        "id": "poabF-6cCXtl"
      }
    },
    {
      "cell_type": "code",
      "source": [
        "predicted_ages = np.squeeze(model_age.predict(X_test))\n",
        "\n",
        "rmse = np.sqrt(model_age.evaluate(X_test))\n",
        "print(f\"RMSE:{rmse}\")\n",
        "\n",
        "r2 = r2_score(y_test, predicted_ages)\n",
        "print(f\"r2 score:{r2}\")\n"
      ],
      "metadata": {
        "colab": {
          "base_uri": "https://localhost:8080/"
        },
        "id": "gKy5Hf-vEOx3",
        "outputId": "1921d656-4eed-4652-d013-17ceb230752a"
      },
      "execution_count": 36,
      "outputs": [
        {
          "output_type": "stream",
          "name": "stdout",
          "text": [
            "223/223 [==============================] - 0s 2ms/step - loss: 0.0000e+00\n",
            "RMSE:0.0\n",
            "r2 score:0.6932608391039949\n"
          ]
        }
      ]
    },
    {
      "cell_type": "code",
      "source": [
        "models.save_model(model_age, 'age_model')"
      ],
      "metadata": {
        "colab": {
          "base_uri": "https://localhost:8080/"
        },
        "id": "rgV7xBnwOrbt",
        "outputId": "21a31413-a3f0-4cb8-dd7b-f06ab9a6d1e9"
      },
      "execution_count": 37,
      "outputs": [
        {
          "output_type": "stream",
          "name": "stdout",
          "text": [
            "INFO:tensorflow:Assets written to: age_model/assets\n"
          ]
        }
      ]
    },
    {
      "cell_type": "markdown",
      "source": [
        "**Gender model**"
      ],
      "metadata": {
        "id": "CD76ckriLrVt"
      }
    },
    {
      "cell_type": "code",
      "source": [
        "X_train, X_test, y_train, y_test = train_test_split(X, Y_3, train_size=0.7)"
      ],
      "metadata": {
        "id": "3CTnERZnOkAc"
      },
      "execution_count": 38,
      "outputs": []
    },
    {
      "cell_type": "code",
      "source": [
        "model_gender = Sequential()\n",
        "\n",
        "model_gender.add(layers.Conv2D(16, (4,4), input_shape=(48, 48, 1), activation=\"relu\"))\n",
        "model_gender.add(layers.MaxPool2D(pool_size=(2,2)))\n",
        "model_gender.add(layers.Dropout(rate=0.4))\n",
        "\n",
        "model_gender.add(layers.Conv2D(32, (2,2), activation=\"relu\"))\n",
        "model_gender.add(layers.MaxPool2D(pool_size=(2,2)))\n",
        "model_gender.add(layers.Dropout(rate=0.2))\n",
        "\n",
        "model_gender.add(layers.Flatten())\n",
        "model_gender.add(layers.Dense(50, activation=\"relu\")) # intermediate layer\n",
        "model_gender.add(layers.Dense(1, activation=\"sigmoid\"))\n",
        "\n",
        "model_gender.summary()"
      ],
      "metadata": {
        "colab": {
          "base_uri": "https://localhost:8080/"
        },
        "id": "wg2evLl3O-uY",
        "outputId": "8f3a03cf-4980-4679-ad9a-e62442f2a8da"
      },
      "execution_count": 39,
      "outputs": [
        {
          "output_type": "stream",
          "name": "stdout",
          "text": [
            "Model: \"sequential_2\"\n",
            "_________________________________________________________________\n",
            " Layer (type)                Output Shape              Param #   \n",
            "=================================================================\n",
            " conv2d_4 (Conv2D)           (None, 45, 45, 16)        272       \n",
            "                                                                 \n",
            " max_pooling2d_4 (MaxPooling  (None, 22, 22, 16)       0         \n",
            " 2D)                                                             \n",
            "                                                                 \n",
            " dropout_4 (Dropout)         (None, 22, 22, 16)        0         \n",
            "                                                                 \n",
            " conv2d_5 (Conv2D)           (None, 21, 21, 32)        2080      \n",
            "                                                                 \n",
            " max_pooling2d_5 (MaxPooling  (None, 10, 10, 32)       0         \n",
            " 2D)                                                             \n",
            "                                                                 \n",
            " dropout_5 (Dropout)         (None, 10, 10, 32)        0         \n",
            "                                                                 \n",
            " flatten_2 (Flatten)         (None, 3200)              0         \n",
            "                                                                 \n",
            " dense_4 (Dense)             (None, 50)                160050    \n",
            "                                                                 \n",
            " dense_5 (Dense)             (None, 1)                 51        \n",
            "                                                                 \n",
            "=================================================================\n",
            "Total params: 162,453\n",
            "Trainable params: 162,453\n",
            "Non-trainable params: 0\n",
            "_________________________________________________________________\n"
          ]
        }
      ]
    },
    {
      "cell_type": "code",
      "source": [
        "model_gender.compile(loss='binary_crossentropy',\n",
        "              optimizer='adam',\n",
        "              metrics=['accuracy'])"
      ],
      "metadata": {
        "id": "vhf5S6akPesK"
      },
      "execution_count": 40,
      "outputs": []
    },
    {
      "cell_type": "code",
      "source": [
        "es = callbacks.EarlyStopping(patience=10, restore_best_weights=True)\n",
        "\n",
        "history = model_gender.fit(X_train, y_train,\n",
        "          epochs= 20,\n",
        "          verbose= 1,\n",
        "          callbacks=[es],\n",
        "          validation_split=0.2,\n",
        "          batch_size= 32)"
      ],
      "metadata": {
        "colab": {
          "base_uri": "https://localhost:8080/"
        },
        "id": "NQ4hWy8SP3Kq",
        "outputId": "f7780c35-3d3a-4a20-a65e-27cc4fca6026"
      },
      "execution_count": 41,
      "outputs": [
        {
          "output_type": "stream",
          "name": "stdout",
          "text": [
            "Epoch 1/20\n",
            "415/415 [==============================] - 3s 5ms/step - loss: 0.5604 - accuracy: 0.7078 - val_loss: 0.4647 - val_accuracy: 0.8048\n",
            "Epoch 2/20\n",
            "415/415 [==============================] - 3s 6ms/step - loss: 0.4308 - accuracy: 0.8053 - val_loss: 0.3819 - val_accuracy: 0.8274\n",
            "Epoch 3/20\n",
            "415/415 [==============================] - 3s 6ms/step - loss: 0.3845 - accuracy: 0.8192 - val_loss: 0.3558 - val_accuracy: 0.8457\n",
            "Epoch 4/20\n",
            "415/415 [==============================] - 2s 5ms/step - loss: 0.3613 - accuracy: 0.8345 - val_loss: 0.3505 - val_accuracy: 0.8469\n",
            "Epoch 5/20\n",
            "415/415 [==============================] - 2s 5ms/step - loss: 0.3473 - accuracy: 0.8371 - val_loss: 0.3240 - val_accuracy: 0.8590\n",
            "Epoch 6/20\n",
            "415/415 [==============================] - 2s 5ms/step - loss: 0.3366 - accuracy: 0.8479 - val_loss: 0.3132 - val_accuracy: 0.8620\n",
            "Epoch 7/20\n",
            "415/415 [==============================] - 2s 5ms/step - loss: 0.3269 - accuracy: 0.8519 - val_loss: 0.3042 - val_accuracy: 0.8653\n",
            "Epoch 8/20\n",
            "415/415 [==============================] - 2s 6ms/step - loss: 0.3173 - accuracy: 0.8568 - val_loss: 0.2996 - val_accuracy: 0.8665\n",
            "Epoch 9/20\n",
            "415/415 [==============================] - 2s 5ms/step - loss: 0.3040 - accuracy: 0.8630 - val_loss: 0.2899 - val_accuracy: 0.8723\n",
            "Epoch 10/20\n",
            "415/415 [==============================] - 2s 5ms/step - loss: 0.2932 - accuracy: 0.8705 - val_loss: 0.2875 - val_accuracy: 0.8732\n",
            "Epoch 11/20\n",
            "415/415 [==============================] - 2s 5ms/step - loss: 0.2934 - accuracy: 0.8687 - val_loss: 0.2997 - val_accuracy: 0.8710\n",
            "Epoch 12/20\n",
            "415/415 [==============================] - 2s 5ms/step - loss: 0.2873 - accuracy: 0.8713 - val_loss: 0.2905 - val_accuracy: 0.8768\n",
            "Epoch 13/20\n",
            "415/415 [==============================] - 2s 4ms/step - loss: 0.2734 - accuracy: 0.8786 - val_loss: 0.2830 - val_accuracy: 0.8759\n",
            "Epoch 14/20\n",
            "415/415 [==============================] - 2s 5ms/step - loss: 0.2761 - accuracy: 0.8791 - val_loss: 0.2949 - val_accuracy: 0.8683\n",
            "Epoch 15/20\n",
            "415/415 [==============================] - 2s 4ms/step - loss: 0.2665 - accuracy: 0.8824 - val_loss: 0.2725 - val_accuracy: 0.8804\n",
            "Epoch 16/20\n",
            "415/415 [==============================] - 2s 5ms/step - loss: 0.2588 - accuracy: 0.8879 - val_loss: 0.2833 - val_accuracy: 0.8738\n",
            "Epoch 17/20\n",
            "415/415 [==============================] - 2s 4ms/step - loss: 0.2526 - accuracy: 0.8899 - val_loss: 0.2683 - val_accuracy: 0.8822\n",
            "Epoch 18/20\n",
            "415/415 [==============================] - 2s 4ms/step - loss: 0.2440 - accuracy: 0.8944 - val_loss: 0.2642 - val_accuracy: 0.8840\n",
            "Epoch 19/20\n",
            "415/415 [==============================] - 2s 5ms/step - loss: 0.2372 - accuracy: 0.8949 - val_loss: 0.2640 - val_accuracy: 0.8846\n",
            "Epoch 20/20\n",
            "415/415 [==============================] - 2s 5ms/step - loss: 0.2320 - accuracy: 0.8989 - val_loss: 0.2636 - val_accuracy: 0.8816\n"
          ]
        }
      ]
    },
    {
      "cell_type": "code",
      "source": [
        "print(model_gender.evaluate(X_test, y_test, verbose=0))"
      ],
      "metadata": {
        "colab": {
          "base_uri": "https://localhost:8080/"
        },
        "id": "0QMOoJiBYSwh",
        "outputId": "90792f31-f541-474e-9911-0ffe0dad460e"
      },
      "execution_count": 42,
      "outputs": [
        {
          "output_type": "stream",
          "name": "stdout",
          "text": [
            "[0.2667713165283203, 0.886529803276062]\n"
          ]
        }
      ]
    },
    {
      "cell_type": "code",
      "source": [
        "plt.plot(figsize=(16,8))\n",
        "plt.plot(history.history['loss'], label='Train loss')\n",
        "plt.plot(history.history['val_loss'], label='Validation loss')\n",
        "plt.xlabel(\"Epochs\")\n",
        "plt.ylabel(\"Loss\")\n",
        "plt.ylim(0,1)\n",
        "plt.legend()"
      ],
      "metadata": {
        "id": "t3qqyuvsWkSj",
        "colab": {
          "base_uri": "https://localhost:8080/",
          "height": 301
        },
        "outputId": "51db0fe7-6053-445d-dc94-a2a49696d3b9"
      },
      "execution_count": 43,
      "outputs": [
        {
          "output_type": "execute_result",
          "data": {
            "text/plain": [
              "<matplotlib.legend.Legend at 0x7f0ee2383d50>"
            ]
          },
          "metadata": {},
          "execution_count": 43
        },
        {
          "output_type": "display_data",
          "data": {
            "text/plain": [
              "<Figure size 432x288 with 1 Axes>"
            ],
            "image/png": "[encoded data removed]"
          },
          "metadata": {
            "needs_background": "light"
          }
        }
      ]
    },
    {
      "cell_type": "code",
      "source": [
        "plt.plot(figsize=(16,8))\n",
        "plt.plot(history.history['accuracy'], label='Train accuracy')\n",
        "plt.plot(history.history['val_accuracy'], label='Validation accuracy')\n",
        "plt.xlabel(\"Epochs\")\n",
        "plt.ylabel(\"Accuracy\")\n",
        "plt.ylim(0,1)\n",
        "plt.legend()"
      ],
      "metadata": {
        "id": "S-0rE936WpSs",
        "colab": {
          "base_uri": "https://localhost:8080/",
          "height": 301
        },
        "outputId": "819e2355-cb1e-48c0-c443-7fb150471dc4"
      },
      "execution_count": 44,
      "outputs": [
        {
          "output_type": "execute_result",
          "data": {
            "text/plain": [
              "<matplotlib.legend.Legend at 0x7f0ef605cb50>"
            ]
          },
          "metadata": {},
          "execution_count": 44
        },
        {
          "output_type": "display_data",
          "data": {
            "text/plain": [
              "<Figure size 432x288 with 1 Axes>"
            ],
            "image/png": "[encoded data removed]"
          },
          "metadata": {
            "needs_background": "light"
          }
        }
      ]
    },
    {
      "cell_type": "markdown",
      "source": [
        "**Validating our model with Johnny Wilkinson image**"
      ],
      "metadata": {
        "id": "VDlD31JLi0mR"
      }
    },
    {
      "cell_type": "code",
      "source": [
        "import skimage.io\n",
        "from skimage.transform import resize"
      ],
      "metadata": {
        "id": "I9V-nCj7k81m"
      },
      "execution_count": 45,
      "outputs": []
    },
    {
      "cell_type": "code",
      "source": [
        "def read_img(filepath):\n",
        "  return skimage.io.imread(filepath,as_gray=True)\n",
        "\n",
        "def resize_image(input_image):\n",
        "  img = read_img(input_image)\n",
        "  img = resize(img,(1,48,48,1))\n",
        "  return img"
      ],
      "metadata": {
        "id": "FrpcMEp1lJrC"
      },
      "execution_count": 46,
      "outputs": []
    },
    {
      "cell_type": "code",
      "source": [
        "johnny = resize_image('/content/drive/MyDrive/johnny_wilkinson.jpg')\n",
        "johnny = johnny/255"
      ],
      "metadata": {
        "id": "ZKhuFrnRlLhq"
      },
      "execution_count": 48,
      "outputs": []
    },
    {
      "cell_type": "code",
      "source": [
        "model_gender.predict(johnny)"
      ],
      "metadata": {
        "colab": {
          "base_uri": "https://localhost:8080/"
        },
        "id": "BrF0yuQAlvab",
        "outputId": "66ddcdce-e3bd-4fd7-c48c-0b65021709dc"
      },
      "execution_count": 49,
      "outputs": [
        {
          "output_type": "execute_result",
          "data": {
            "text/plain": [
              "array([[0.3599377]], dtype=float32)"
            ]
          },
          "metadata": {},
          "execution_count": 49
        }
      ]
    },
    {
      "cell_type": "code",
      "source": [
        "model_age.predict(johnny)"
      ],
      "metadata": {
        "colab": {
          "base_uri": "https://localhost:8080/"
        },
        "id": "js9gfK4zlwfE",
        "outputId": "b11f5ab8-ef7a-4d4a-c50d-77453c42fe7b"
      },
      "execution_count": 50,
      "outputs": [
        {
          "output_type": "execute_result",
          "data": {
            "text/plain": [
              "array([[30.31405]], dtype=float32)"
            ]
          },
          "metadata": {},
          "execution_count": 50
        }
      ]
    },
    {
      "cell_type": "code",
      "source": [
        "model_ethnicity.predict(johnny)"
      ],
      "metadata": {
        "colab": {
          "base_uri": "https://localhost:8080/"
        },
        "id": "CsnPzBO7lz5C",
        "outputId": "c681ac8b-3fd5-4a82-f3a9-813d91150724"
      },
      "execution_count": 52,
      "outputs": [
        {
          "output_type": "execute_result",
          "data": {
            "text/plain": [
              "array([[0.2523638 , 0.3079198 , 0.19001704, 0.12749673, 0.12220255]],\n",
              "      dtype=float32)"
            ]
          },
          "metadata": {},
          "execution_count": 52
        }
      ]
    },
    {
      "cell_type": "code",
      "source": [
        ""
      ],
      "metadata": {
        "id": "yYgWOZSgmweB"
      },
      "execution_count": null,
      "outputs": []
    }
  ]
}